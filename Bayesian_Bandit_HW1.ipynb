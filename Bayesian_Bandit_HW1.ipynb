{
 "cells": [
  {
   "cell_type": "code",
   "execution_count": 1,
   "id": "6ab49add",
   "metadata": {},
   "outputs": [],
   "source": [
    "from scipy import stats\n",
    "import numpy as np\n",
    "import matplotlib.pyplot as plt"
   ]
  },
  {
   "cell_type": "markdown",
   "id": "6f7c5334",
   "metadata": {},
   "source": [
    "To solve this problem, we first define each theta value (0.3, 0.5, 0.7). We initialize our prior for each of the three games to be a beta distribution with alpha=1 and beta=1, equivalent to a uniform distribution between 0 and 1. We sample from each of these distributions and whichever value is highest, we choose to play the corresponding game. We then see the result of playing the game with the corresponding theta, and with it, we can update our prior into a posterior. We repeat this process for the number of games we play (in the below example 10000). The end result is a selection of the game which is most favorable after a set of trials (exploration followed by exploitation)."
   ]
  },
  {
   "cell_type": "code",
   "execution_count": 2,
   "id": "304c1b54",
   "metadata": {},
   "outputs": [
    {
     "data": {
      "text/plain": [
       "[<matplotlib.lines.Line2D at 0x7feb17117690>]"
      ]
     },
     "execution_count": 2,
     "metadata": {},
     "output_type": "execute_result"
    },
    {
     "data": {
      "image/png": "[encoded data removed]",
      "text/plain": [
       "<Figure size 1200x400 with 1 Axes>"
      ]
     },
     "metadata": {},
     "output_type": "display_data"
    }
   ],
   "source": [
    "theta_red=0.3\n",
    "theta_blue=0.5\n",
    "theta_green=0.7\n",
    "\n",
    "alpha_red=1\n",
    "beta_red=1\n",
    "alpha_blue=1\n",
    "beta_blue=1\n",
    "alpha_green=1\n",
    "beta_green=1\n",
    "\n",
    "parameter_domain = np.linspace(0,1,1001)\n",
    "\n",
    "num_samples_red=0\n",
    "num_samples_blue=0\n",
    "num_samples_green=0\n",
    "\n",
    "np.random.seed(2)\n",
    "\n",
    "for i in range(10000):\n",
    "    values_red=np.random.beta(a=alpha_red, b=beta_red)\n",
    "    values_blue=np.random.beta(a=alpha_blue, b=beta_blue)\n",
    "    values_green=np.random.beta(a=alpha_green, b=beta_green)\n",
    "    random_value=np.argmax([values_red, values_blue, values_green])\n",
    "    if random_value==0:\n",
    "        red_value=stats.bernoulli(p=theta_red).rvs(size=1)[0]\n",
    "        posterior_red = stats.beta(a=red_value+alpha_red,b=1-red_value+beta_red).pdf(parameter_domain)\n",
    "        alpha_red+=red_value\n",
    "        beta_red+=1-red_value\n",
    "        num_samples_red+=1\n",
    "    elif random_value==1:\n",
    "        blue_value=stats.bernoulli(p=theta_blue).rvs(size=1)[0]\n",
    "        posterior_blue = stats.beta(a=blue_value+alpha_blue,b=1-blue_value+beta_blue).pdf(parameter_domain)\n",
    "        alpha_blue+=blue_value\n",
    "        beta_blue+=1-blue_value\n",
    "        num_samples_blue+=1\n",
    "    elif random_value==2:\n",
    "        green_value=stats.bernoulli(p=theta_green).rvs(size=1)[0]\n",
    "        posterior_green = stats.beta(a=green_value+alpha_green,b=1-green_value+beta_green).pdf(parameter_domain)\n",
    "        alpha_green+=green_value\n",
    "        beta_green+=1-green_value\n",
    "        num_samples_green+=1\n",
    "    else:\n",
    "        print(\"Error\")\n",
    "    \n",
    "plt.figure(figsize=(12,4));\n",
    "plt.plot(parameter_domain, posterior_red, label=\"posterior\", color='red')\n",
    "plt.plot(parameter_domain, posterior_blue, label=\"posterior\", color='blue')\n",
    "plt.plot(parameter_domain, posterior_green, label=\"posterior\", color='green')"
   ]
  },
  {
   "cell_type": "code",
   "execution_count": 3,
   "id": "322f43af",
   "metadata": {},
   "outputs": [
    {
     "name": "stdout",
     "output_type": "stream",
     "text": [
      "33\n",
      "43\n",
      "9924\n"
     ]
    }
   ],
   "source": [
    "print(num_samples_red)\n",
    "print(num_samples_blue)\n",
    "print(num_samples_green)"
   ]
  }
 ],
 "metadata": {
  "kernelspec": {
   "display_name": "Python 3 (ipykernel)",
   "language": "python",
   "name": "python3"
  },
  "language_info": {
   "codemirror_mode": {
    "name": "ipython",
    "version": 3
   },
   "file_extension": ".py",
   "mimetype": "text/x-python",
   "name": "python",
   "nbconvert_exporter": "python",
   "pygments_lexer": "ipython3",
   "version": "3.11.6"
  }
 },
 "nbformat": 4,
 "nbformat_minor": 5
}
