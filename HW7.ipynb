{
  "nbformat": 4,
  "nbformat_minor": 0,
  "metadata": {
    "colab": {
      "provenance": []
    },
    "kernelspec": {
      "name": "python3",
      "display_name": "Python 3"
    },
    "language_info": {
      "name": "python"
    }
  },
  "cells": [
    {
      "cell_type": "markdown",
      "source": [
        "1. Describe how the posterior predictive distribution is created for mixture models\n",
        "\n",
        "\n",
        "The posterior predictive distribution is created by integrating across all possible parameter values, and weighting them by how likely those parameter values are based on the posterior distribution. For mixture models more specifically, the process begins by sampling from the posterior distribution of each component of the mixture model. For each set of parameters, we can then draw new observations. These parameters include both mixture parameters and coefficient parameters. Finally, we aggregate these points across these data points to construct a new posterior predictive distribution for mixture models"
      ],
      "metadata": {
        "id": "zAEWjNJG4O7y"
      }
    },
    {
      "cell_type": "markdown",
      "source": [
        "2. Describe how the posterior predictive distribution is created in general\n",
        "\n",
        "The posterior predictive distribution, in general, is found by multiplying the likelihood of a new data point given a specific parameter by the posterior distribution found for a previous set of data points, and then integrated across the entire parameter sapce. This yields the posterior predictive distribution"
      ],
      "metadata": {
        "id": "hD-5GRqm4lpR"
      }
    },
    {
      "cell_type": "markdown",
      "source": [
        "3. Have glance through this and then describe how, if you were doing a regression of  𝑦\n",
        "  on  𝑋\n",
        "  but  𝑋\n",
        "  had some missing values, you could perform a Bayesian analysis without throwing away the rows with missing values in  𝑋\n",
        "\n",
        "There are three types of missing data: Missing Completely at Random (MCAR), Missing at Random (MAR) and Missing Not at Random (MNAR). With MNAR data, we can use latent variables that indicates whether certain data points are missing or not to aid in our analysis. For MCAR data what we can do is to determine priors on the data from the results we have, and then to draw from these to impute the missing values. For MAR data we can remove these points, since the probability of missingness is independent of the missing values given the observed data."
      ],
      "metadata": {
        "id": "CvNPHXaC4m9R"
      }
    }
  ]
}